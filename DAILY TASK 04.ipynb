{
 "cells": [
  {
   "cell_type": "markdown",
   "id": "788d4c82",
   "metadata": {},
   "source": [
    "## EXPLORE LIST COMPREHENSION -  22/04/2022"
   ]
  },
  {
   "cell_type": "markdown",
   "id": "548d256a",
   "metadata": {},
   "source": [
    "- List comprehension is an elegant way to define and create lists based on existing lists.\n",
    "- List comprehension is generally more compact and faster than normal functions and loops for creating list.\n",
    "- However, we should avoid writing very long list comprehensions in one line to ensure that code is user-friendly.\n",
    "- Remember, every list comprehension can be rewritten in for loop, but every for loop can’t be rewritten in the form of list comprehension."
   ]
  },
  {
   "cell_type": "markdown",
   "id": "aee62444",
   "metadata": {},
   "source": [
    "#### 1. List Comprehension vs For Loop in Python"
   ]
  },
  {
   "cell_type": "code",
   "execution_count": 1,
   "id": "ef4862e7",
   "metadata": {},
   "outputs": [
    {
     "name": "stdout",
     "output_type": "stream",
     "text": [
      "['tenth', 'inter', 'graduation']\n"
     ]
    }
   ],
   "source": [
    "# eg:01 Without list comprehension  we have to write a for statement with a conditional test\n",
    "\n",
    "study = [\"tenth\", \"inter\", \"graduation\", \"pg\", \"phd\"]\n",
    "newlist = []\n",
    "\n",
    "for education in study:\n",
    "    if \"n\" in education:\n",
    "        newlist.append(education)\n",
    "\n",
    "print(newlist)"
   ]
  },
  {
   "cell_type": "code",
   "execution_count": 2,
   "id": "b48e0fad",
   "metadata": {},
   "outputs": [
    {
     "name": "stdout",
     "output_type": "stream",
     "text": [
      "['tenth', 'inter', 'graduation']\n"
     ]
    }
   ],
   "source": [
    "# eg:02 with list comprehension \n",
    "study = [\"tenth\", \"inter\", \"graduation\", \"pg\", \"phd\"]\n",
    "newlist = [education for education in study if \"n\" in education]\n",
    "print(newlist)\n"
   ]
  },
  {
   "cell_type": "markdown",
   "id": "dbec3b4d",
   "metadata": {},
   "source": [
    "####  2.List Comprehensions vs Lambda functions\n",
    "\n",
    "-list comprehensions are clearer than the map built-in function for simple cases. the map requires creating a lambda function for the computation, which is visually noisy."
   ]
  },
  {
   "cell_type": "code",
   "execution_count": 3,
   "id": "548a2ae9",
   "metadata": {},
   "outputs": [
    {
     "name": "stdout",
     "output_type": "stream",
     "text": [
      "['p', 'r', 'i', 'y', 'a', 'n', 'k', 'a']\n"
     ]
    }
   ],
   "source": [
    "# eg:01 using a string\n",
    "\n",
    "name = list(map(lambda x: x, 'priyanka'))\n",
    "print(name)"
   ]
  },
  {
   "cell_type": "code",
   "execution_count": 4,
   "id": "7ed81580",
   "metadata": {},
   "outputs": [
    {
     "data": {
      "text/plain": [
       "[1, 8, 27, 64, 125, 216, 343, 512, 729, 1000]"
      ]
     },
     "execution_count": 4,
     "metadata": {},
     "output_type": "execute_result"
    }
   ],
   "source": [
    "#eg:02 using a list of numbers\n",
    "\n",
    "cube_of_num = [1, 2, 3, 4, 5, 6, 7, 8, 9, 10]\n",
    "list(map(lambda num: num**3, cube_of_num))"
   ]
  },
  {
   "cell_type": "markdown",
   "id": "6ef7bb83",
   "metadata": {},
   "source": [
    "#### 3.List comprehensions with conditional expression\n",
    "- The condition is like a filter that only accepts the items that valuate to True."
   ]
  },
  {
   "cell_type": "code",
   "execution_count": 5,
   "id": "b634653b",
   "metadata": {},
   "outputs": [
    {
     "name": "stdout",
     "output_type": "stream",
     "text": [
      "[0, 15, 30, 45, 60, 75, 90, 105, 120, 135, 150, 165, 180, 195]\n"
     ]
    }
   ],
   "source": [
    "# eg:01 finding the numbers which are less than 200 and divisible by 3 and 5\n",
    "num_lis = [x for x in range(200) if x % 3 == 0 if x % 5 == 0]\n",
    "print(num_lis)\n"
   ]
  },
  {
   "cell_type": "code",
   "execution_count": 6,
   "id": "96b8331f",
   "metadata": {},
   "outputs": [
    {
     "name": "stdout",
     "output_type": "stream",
     "text": [
      "['tenth', 'inter', 'graduation', 'phd']\n"
     ]
    }
   ],
   "source": [
    "# eg:02 finding the list excluding an element\n",
    "study = [\"tenth\", \"inter\", \"graduation\", \"pg\", \"phd\"]\n",
    "newlist = [x for x in study if x != \"pg\"]\n",
    "print(newlist)"
   ]
  },
  {
   "cell_type": "markdown",
   "id": "4e85c8a9",
   "metadata": {},
   "source": [
    "#### 4.Nested Loops in List Comprehension\n",
    "- Transpose of Matrix using Nested Loops\n",
    "- Transpose of a Matrix using List Comprehension\n"
   ]
  },
  {
   "cell_type": "code",
   "execution_count": 7,
   "id": "b751df5b",
   "metadata": {},
   "outputs": [
    {
     "name": "stdout",
     "output_type": "stream",
     "text": [
      "[['ramu', 'riya'], ['raju', 'rita'], ['ravi', 'rena'], ['ramesh', 'rithika']]\n"
     ]
    }
   ],
   "source": [
    "# Transpose of Matrix using Nested Loops\n",
    "\n",
    "transposed = []\n",
    "class_group = [['ramu', 'raju', 'ravi', 'ramesh'], ['riya','rita','rena','rithika']]\n",
    "\n",
    "for i in range(len(class_group[0])):\n",
    "    transposed_row = []\n",
    "\n",
    "    for row in class_group:\n",
    "        transposed_row.append(row[i])\n",
    "    transposed.append(transposed_row)\n",
    "\n",
    "print(transposed)"
   ]
  },
  {
   "cell_type": "code",
   "execution_count": 8,
   "id": "2bd84f96",
   "metadata": {},
   "outputs": [
    {
     "name": "stdout",
     "output_type": "stream",
     "text": [
      "[['ramu', 'raju', 'ravi', 'ramesh'], ['riya', 'rita', 'rena', 'rithika']]\n"
     ]
    }
   ],
   "source": [
    "# Transpose of a Matrix using List Comprehension\n",
    "\n",
    "class_group = [['ramu', 'riya'], ['raju', 'rita'], ['ravi', 'rena'], ['ramesh', 'rithika']]\n",
    "transpose = [[row[i] for row in class_group] for i in range(2)]\n",
    "print (transpose)"
   ]
  },
  {
   "cell_type": "code",
   "execution_count": null,
   "id": "d55864bd",
   "metadata": {},
   "outputs": [],
   "source": []
  }
 ],
 "metadata": {
  "kernelspec": {
   "display_name": "Python 3 (ipykernel)",
   "language": "python",
   "name": "python3"
  },
  "language_info": {
   "codemirror_mode": {
    "name": "ipython",
    "version": 3
   },
   "file_extension": ".py",
   "mimetype": "text/x-python",
   "name": "python",
   "nbconvert_exporter": "python",
   "pygments_lexer": "ipython3",
   "version": "3.9.7"
  }
 },
 "nbformat": 4,
 "nbformat_minor": 5
}
